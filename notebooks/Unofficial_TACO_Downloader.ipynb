{
  "nbformat": 4,
  "nbformat_minor": 0,
  "metadata": {
    "colab": {
      "provenance": [],
      "collapsed_sections": [],
      "machine_shape": "hm"
    },
    "kernelspec": {
      "name": "python3",
      "display_name": "Python 3"
    },
    "language_info": {
      "name": "python"
    }
  },
  "cells": [
    {
      "cell_type": "markdown",
      "source": [
        "# Unofficial TACO downloader\n",
        "\n",
        "As of Oct 01 2022, original author's python downloader throws errors\n",
        "when downloading the unofficial TACO images. That is, the following call runs into error\n",
        "\n",
        "`python3 download.py --dataset_path ./data/annotations_unofficial.json`\n",
        "\n",
        "This notebook contains a modified image downloader based on original author's script."
      ],
      "metadata": {
        "id": "hUy-89mjMegQ"
      }
    },
    {
      "cell_type": "code",
      "source": [
        "from google.colab import drive\n",
        "drive.mount('/content/drive')"
      ],
      "metadata": {
        "colab": {
          "base_uri": "https://localhost:8080/"
        },
        "id": "tFAGolUJNj4q",
        "outputId": "7df5373e-2fea-41f8-c7b5-d8d6fe47b4a7"
      },
      "execution_count": null,
      "outputs": [
        {
          "output_type": "stream",
          "name": "stdout",
          "text": [
            "Drive already mounted at /content/drive; to attempt to forcibly remount, call drive.mount(\"/content/drive\", force_remount=True).\n"
          ]
        }
      ]
    },
    {
      "cell_type": "code",
      "execution_count": null,
      "metadata": {
        "colab": {
          "base_uri": "https://localhost:8080/"
        },
        "id": "vM8_8FZL9Z_J",
        "outputId": "91c09288-9eae-4ddb-adb0-3f6610001f4d"
      },
      "outputs": [
        {
          "output_type": "stream",
          "name": "stderr",
          "text": [
            "--2022-10-01 06:20:40--  https://raw.githubusercontent.com/pedropro/TACO/master/data/annotations_unofficial.json\n",
            "Resolving raw.githubusercontent.com (raw.githubusercontent.com)... 185.199.108.133, 185.199.111.133, 185.199.110.133, ...\n",
            "Connecting to raw.githubusercontent.com (raw.githubusercontent.com)|185.199.108.133|:443... connected.\n",
            "HTTP request sent, awaiting response... 200 OK\n",
            "Length: 3846384 (3.7M) [text/plain]\n",
            "Saving to: ‘annotations_unofficial.json’\n",
            "\n",
            "     0K .......... .......... .......... .......... ..........  1% 27.8M 0s\n",
            "    50K .......... .......... .......... .......... ..........  2% 25.1M 0s\n",
            "   100K .......... .......... .......... .......... ..........  3% 57.9M 0s\n",
            "   150K .......... .......... .......... .......... ..........  5% 28.0M 0s\n",
            "   200K .......... .......... .......... .......... ..........  6%  144M 0s\n",
            "   250K .......... .......... .......... .......... ..........  7%  343M 0s\n",
            "   300K .......... .......... .......... .......... ..........  9%  393M 0s\n",
            "   350K .......... .......... .......... .......... .......... 10% 31.8M 0s\n",
            "   400K .......... .......... .......... .......... .......... 11%  269M 0s\n",
            "   450K .......... .......... .......... .......... .......... 13%  319M 0s\n",
            "   500K .......... .......... .......... .......... .......... 14%  332M 0s\n",
            "   550K .......... .......... .......... .......... .......... 15%  371M 0s\n",
            "   600K .......... .......... .......... .......... .......... 17%  265M 0s\n",
            "   650K .......... .......... .......... .......... .......... 18%  293M 0s\n",
            "   700K .......... .......... .......... .......... .......... 19%  295M 0s\n",
            "   750K .......... .......... .......... .......... .......... 21% 58.6M 0s\n",
            "   800K .......... .......... .......... .......... .......... 22%  235M 0s\n",
            "   850K .......... .......... .......... .......... .......... 23%  239M 0s\n",
            "   900K .......... .......... .......... .......... .......... 25%  264M 0s\n",
            "   950K .......... .......... .......... .......... .......... 26%  235M 0s\n",
            "  1000K .......... .......... .......... .......... .......... 27%  205M 0s\n",
            "  1050K .......... .......... .......... .......... .......... 29%  203M 0s\n",
            "  1100K .......... .......... .......... .......... .......... 30%  379M 0s\n",
            "  1150K .......... .......... .......... .......... .......... 31%  318M 0s\n",
            "  1200K .......... .......... .......... .......... .......... 33%  363M 0s\n",
            "  1250K .......... .......... .......... .......... .......... 34%  321M 0s\n",
            "  1300K .......... .......... .......... .......... .......... 35%  244M 0s\n",
            "  1350K .......... .......... .......... .......... .......... 37%  375M 0s\n",
            "  1400K .......... .......... .......... .......... .......... 38%  181M 0s\n",
            "  1450K .......... .......... .......... .......... .......... 39%  231M 0s\n",
            "  1500K .......... .......... .......... .......... .......... 41%  316M 0s\n",
            "  1550K .......... .......... .......... .......... .......... 42%  328M 0s\n",
            "  1600K .......... .......... .......... .......... .......... 43%  385M 0s\n",
            "  1650K .......... .......... .......... .......... .......... 45%  328M 0s\n",
            "  1700K .......... .......... .......... .......... .......... 46%  375M 0s\n",
            "  1750K .......... .......... .......... .......... .......... 47%  392M 0s\n",
            "  1800K .......... .......... .......... .......... .......... 49%  203M 0s\n",
            "  1850K .......... .......... .......... .......... .......... 50%  349M 0s\n",
            "  1900K .......... .......... .......... .......... .......... 51%  165M 0s\n",
            "  1950K .......... .......... .......... .......... .......... 53%  165M 0s\n",
            "  2000K .......... .......... .......... .......... .......... 54%  151M 0s\n",
            "  2050K .......... .......... .......... .......... .......... 55%  315M 0s\n",
            "  2100K .......... .......... .......... .......... .......... 57%  329M 0s\n",
            "  2150K .......... .......... .......... .......... .......... 58%  310M 0s\n",
            "  2200K .......... .......... .......... .......... .......... 59%  352M 0s\n",
            "  2250K .......... .......... .......... .......... .......... 61%  366M 0s\n",
            "  2300K .......... .......... .......... .......... .......... 62%  274M 0s\n",
            "  2350K .......... .......... .......... .......... .......... 63%  365M 0s\n",
            "  2400K .......... .......... .......... .......... .......... 65%  342M 0s\n",
            "  2450K .......... .......... .......... .......... .......... 66%  260M 0s\n",
            "  2500K .......... .......... .......... .......... .......... 67%  284M 0s\n",
            "  2550K .......... .......... .......... .......... .......... 69%  251M 0s\n",
            "  2600K .......... .......... .......... .......... .......... 70%  301M 0s\n",
            "  2650K .......... .......... .......... .......... .......... 71%  320M 0s\n",
            "  2700K .......... .......... .......... .......... .......... 73%  299M 0s\n",
            "  2750K .......... .......... .......... .......... .......... 74%  284M 0s\n",
            "  2800K .......... .......... .......... .......... .......... 75%  302M 0s\n",
            "  2850K .......... .......... .......... .......... .......... 77%  316M 0s\n",
            "  2900K .......... .......... .......... .......... .......... 78%  307M 0s\n",
            "  2950K .......... .......... .......... .......... .......... 79%  275M 0s\n",
            "  3000K .......... .......... .......... .......... .......... 81%  286M 0s\n",
            "  3050K .......... .......... .......... .......... .......... 82%  264M 0s\n",
            "  3100K .......... .......... .......... .......... .......... 83%  300M 0s\n",
            "  3150K .......... .......... .......... .......... .......... 85%  315M 0s\n",
            "  3200K .......... .......... .......... .......... .......... 86%  285M 0s\n",
            "  3250K .......... .......... .......... .......... .......... 87%  282M 0s\n",
            "  3300K .......... .......... .......... .......... .......... 89%  301M 0s\n",
            "  3350K .......... .......... .......... .......... .......... 90%  317M 0s\n",
            "  3400K .......... .......... .......... .......... .......... 91%  322M 0s\n",
            "  3450K .......... .......... .......... .......... .......... 93%  285M 0s\n",
            "  3500K .......... .......... .......... .......... .......... 94%  274M 0s\n",
            "  3550K .......... .......... .......... .......... .......... 95%  307M 0s\n",
            "  3600K .......... .......... .......... .......... .......... 97%  290M 0s\n",
            "  3650K .......... .......... .......... .......... .......... 98%  309M 0s\n",
            "  3700K .......... .......... .......... .......... .......... 99%  293M 0s\n",
            "  3750K ......                                                100%  261M=0.02s\n",
            "\n",
            "2022-10-01 06:20:40 (177 MB/s) - ‘annotations_unofficial.json’ saved [3846384/3846384]\n",
            "\n",
            "--2022-10-01 06:20:40--  https://raw.githubusercontent.com/pedropro/TACO/master/download.py\n",
            "Resolving raw.githubusercontent.com (raw.githubusercontent.com)... 185.199.108.133, 185.199.109.133, 185.199.110.133, ...\n",
            "Connecting to raw.githubusercontent.com (raw.githubusercontent.com)|185.199.108.133|:443... connected.\n",
            "HTTP request sent, awaiting response... 200 OK\n",
            "Length: 1751 (1.7K) [text/plain]\n",
            "Saving to: ‘download.py’\n",
            "\n",
            "     0K .                                                     100% 33.5M=0s\n",
            "\n",
            "2022-10-01 06:20:40 (33.5 MB/s) - ‘download.py’ saved [1751/1751]\n",
            "\n"
          ]
        }
      ],
      "source": [
        "%%bash\n",
        "wget https://raw.githubusercontent.com/pedropro/TACO/master/data/annotations_unofficial.json\n",
        "wget https://raw.githubusercontent.com/pedropro/TACO/master/download.py"
      ]
    },
    {
      "cell_type": "code",
      "source": [
        "import os.path\n",
        "import argparse\n",
        "import json\n",
        "from PIL import Image\n",
        "import requests\n",
        "from io import BytesIO\n",
        "import sys\n",
        "import re\n",
        "from tqdm import tqdm"
      ],
      "metadata": {
        "id": "6fcZglPt9c95"
      },
      "execution_count": null,
      "outputs": []
    },
    {
      "cell_type": "code",
      "source": [
        "%rm -rf UNOF_TACO\n",
        "%mkdir UNOF_TACO"
      ],
      "metadata": {
        "id": "okCH1jfLKJnA"
      },
      "execution_count": null,
      "outputs": []
    },
    {
      "cell_type": "code",
      "source": [
        "anno_path = './annotations_unofficial.json'\n",
        "dataset_dir = './UNOF_TACO'"
      ],
      "metadata": {
        "id": "ejpr0YRrCkAA"
      },
      "execution_count": null,
      "outputs": []
    },
    {
      "cell_type": "code",
      "source": [
        "with open(anno_path, 'r') as f:\n",
        "  annotations = json.loads(f.read())\n",
        "  nr_images = len(annotations['images'])\n",
        "  images = annotations['images']"
      ],
      "metadata": {
        "id": "5X5y7tYAJoft"
      },
      "execution_count": null,
      "outputs": []
    },
    {
      "cell_type": "code",
      "source": [
        "# original author stipulates all images to be saved in .jpg. check it:\n",
        "for i in [re.search(\"[^.]+$\", j).group() for j in [i['file_name'] for i in images]]:\n",
        "  if i != 'jpg':\n",
        "    print('NOT JPG')"
      ],
      "metadata": {
        "id": "Fp1eApxfJmRJ"
      },
      "execution_count": null,
      "outputs": []
    },
    {
      "cell_type": "code",
      "source": [
        "for i in tqdm(range(nr_images)):\n",
        "  image = images[i]\n",
        "\n",
        "  # re-id, continuing from 1500, as 1499 is the end of the \"official\" TACO\n",
        "  img_id = str(int(image['id'])+1500)+'.jpg'\n",
        "  url_original = image['flickr_url']\n",
        "\n",
        "  file_path = os.path.join(dataset_dir, img_id)\n",
        "\n",
        "  if not os.path.isfile(file_path):\n",
        "    # Load and Save Image\n",
        "    response = requests.get(url_original)\n",
        "    img = Image.open(BytesIO(response.content))\n",
        "    rgb_im = img.convert('RGB')\n",
        "    \n",
        "    if img._getexif():\n",
        "      rgb_im.save(file_path, exif=img.info[\"exif\"])\n",
        "    else:\n",
        "      rgb_im.save(file_path)"
      ],
      "metadata": {
        "colab": {
          "base_uri": "https://localhost:8080/"
        },
        "id": "cMSVATIPCR-x",
        "outputId": "46f2c9fc-2241-4c24-fded-d803b31307a8"
      },
      "execution_count": null,
      "outputs": [
        {
          "output_type": "stream",
          "name": "stderr",
          "text": [
            "100%|██████████| 3736/3736 [1:49:38<00:00,  1.76s/it]\n"
          ]
        }
      ]
    },
    {
      "cell_type": "code",
      "source": [
        "%%capture\n",
        "# %rm UNOF_TACO.zip\n",
        "!zip -r UNOF_TACO.zip ./UNOF_TACO/*\n",
        "%mv UNOF_TACO.zip ./drive/MyDrive\n"
      ],
      "metadata": {
        "id": "J2gDKhWcNXLu"
      },
      "execution_count": null,
      "outputs": []
    },
    {
      "cell_type": "code",
      "source": [],
      "metadata": {
        "id": "9dYDnSfdCSFR"
      },
      "execution_count": null,
      "outputs": []
    },
    {
      "cell_type": "code",
      "source": [],
      "metadata": {
        "id": "U9gZdppSCSHR"
      },
      "execution_count": null,
      "outputs": []
    }
  ]
}