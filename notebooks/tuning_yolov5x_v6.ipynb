{
 "cells": [
  {
   "cell_type": "code",
   "execution_count": null,
   "id": "4d193f2c",
   "metadata": {},
   "outputs": [],
   "source": [
    "# please run on colab; experimenting with yolov5xv6 with backbone frozen"
   ]
  },
  {
   "cell_type": "code",
   "execution_count": null,
   "id": "33150122",
   "metadata": {},
   "outputs": [],
   "source": [
    "%%capture\n",
    "!git clone https://github.com/ultralytics/yolov5  # clone\n",
    "!cd yolov5\n",
    "!pip install -r requirements.txt wandb"
   ]
  },
  {
   "cell_type": "code",
   "execution_count": null,
   "id": "6773c339",
   "metadata": {},
   "outputs": [],
   "source": [
    "from PIL import Image, ExifTags\n",
    "from pycocotools.coco import COCO\n",
    "from matplotlib.patches import Polygon, Rectangle\n",
    "from matplotlib.collections import PatchCollection\n",
    "import colorsys\n",
    "import random\n",
    "import pylab\n",
    "\n",
    "import json\n",
    "import numpy as np\n",
    "import pandas as pd\n",
    "import matplotlib.pyplot as plt\n",
    "import seaborn as sns; sns.set()\n",
    "from tqdm import tqdm\n",
    "\n",
    "import shutil\n",
    "import os\n",
    "\n",
    "import torch\n",
    "from torch.utils.data import Dataset, DataLoader\n",
    "from torchvision import transforms, utils"
   ]
  },
  {
   "cell_type": "code",
   "execution_count": null,
   "id": "d60265ce",
   "metadata": {},
   "outputs": [],
   "source": [
    "%%capture\n",
    "!rm -rf /content/*\n",
    "!mkdir data\n",
    "!wget -O data/annotations.json https://raw.githubusercontent.com/pedropro/TACO/master/data/annotations.json\n",
    "!wget https://raw.githubusercontent.com/pedropro/TACO/master/download.py\n",
    "!python download.py"
   ]
  },
  {
   "cell_type": "code",
   "execution_count": null,
   "id": "a90a049d",
   "metadata": {},
   "outputs": [],
   "source": [
    "# Read annotations\n",
    "dataset_path = './data'\n",
    "anns_file_path = dataset_path + '/' + 'annotations.json'\n",
    "\n",
    "with open(anns_file_path, 'r') as f:\n",
    "    dataset = json.loads(f.read())\n",
    "imgs = dataset['images']\n",
    "\n",
    "data_source = COCO(annotation_file=anns_file_path)"
   ]
  },
  {
   "cell_type": "code",
   "execution_count": null,
   "id": "60179b9c",
   "metadata": {},
   "outputs": [],
   "source": [
    "!mkdir yoloTACO\n",
    "!rm -rf ./yoloTACO/*\n",
    "!mkdir yoloTACO/images\n",
    "!mkdir yoloTACO/labels\n",
    "\n",
    "dst = \"./yoloTACO\"\n",
    "coco = COCO(anns_file_path)\n",
    "\n",
    "for img in tqdm(imgs):\n",
    "\n",
    "  # reorganize images\n",
    "  img_id = img['id']\n",
    "  img_location = './data/'+img['file_name']\n",
    "  shutil.copy(img_location, os.path.join(dst+'/images/',str(img_id)+'.jpg'))\n",
    "\n",
    "  # reorganize annotations\n",
    "  annotation_ids = coco.getAnnIds(img_id)\n",
    "  if len(annotation_ids) == 0:\n",
    "    continue\n",
    "\n",
    "  img_info = data_source.loadImgs(img_id)[0]    \n",
    "  height = img_info['height']\n",
    "  width = img_info['width']\n",
    "\n",
    "  with open(dst+'/labels/'+str(img_id)+'.txt', mode='w') as fp:\n",
    "    annotations = coco.loadAnns(annotation_ids)\n",
    "    lines = ''\n",
    "    for annotation in annotations:\n",
    "      label = annotation['category_id']\n",
    "      box = annotation['bbox'] \n",
    "      # some annotations have basically no width / height (extremely small), skip them\n",
    "      if box[2] < 1 or box[3] < 1:\n",
    "          continue\n",
    "      # top_x,top_y,width,height ----> cen_x,cen_y,width,height\n",
    "      # standardize to 0-1\n",
    "      box[0] = round((box[0] + box[2] / 2) / width, 6)\n",
    "      box[1] = round((box[1] + box[3] / 2) / height, 6)\n",
    "      box[2] = round(box[2] / width, 6)\n",
    "      box[3] = round(box[3] / height, 6)\n",
    "      # line: label x_center y_center width height\n",
    "      lines = lines + str(label)\n",
    "      for i in box:\n",
    "          lines += ' ' + str(i)\n",
    "      lines += '\\n'\n",
    "    fp.writelines(lines)"
   ]
  },
  {
   "cell_type": "code",
   "execution_count": null,
   "id": "51fe5716",
   "metadata": {},
   "outputs": [],
   "source": [
    "## train test split\n",
    "'''\n",
    "train: images/train\n",
    "val: images/val\n",
    "test: images/test'''\n",
    "import random\n",
    "id_list=[i for i in range(1500)]\n",
    "random.shuffle(id_list)\n",
    "\n",
    "train_ids = id_list[:1050]\n",
    "val_ids = id_list[1050:1050+300]\n",
    "test_ids = id_list[1050+300:]\n",
    "\n",
    "def move_helper(ids, desti):\n",
    "  for id in ids:\n",
    "    img_name = os.path.join( './yoloTACO/images', str(id)+'.jpg' )\n",
    "    lbl_name = os.path.join( './yoloTACO/labels', str(id)+'.txt' )\n",
    "    print(img_name)\n",
    "    if os.path.isfile(img_name):\n",
    "        shutil.copy( img_name, 'yoloTACO/images/'+desti)\n",
    "        shutil.copy( lbl_name, 'yoloTACO/labels/'+desti)\n",
    "    else :\n",
    "        print('file does not exist', img_name)"
   ]
  },
  {
   "cell_type": "code",
   "execution_count": null,
   "id": "e8d14f2b",
   "metadata": {},
   "outputs": [],
   "source": [
    "!mkdir yoloTACO/images/train\n",
    "!mkdir yoloTACO/images/val\n",
    "!mkdir yoloTACO/images/test\n",
    "!mkdir yoloTACO/labels/train\n",
    "!mkdir yoloTACO/labels/val\n",
    "!mkdir yoloTACO/labels/test\n",
    "move_helper(test_ids,'test')\n",
    "move_helper(train_ids,'train')\n",
    "move_helper(val_ids,'val')"
   ]
  },
  {
   "cell_type": "code",
   "execution_count": null,
   "id": "341998f2",
   "metadata": {},
   "outputs": [],
   "source": [
    "%cd ./yolov5\n",
    "!ls"
   ]
  },
  {
   "cell_type": "code",
   "execution_count": null,
   "id": "079d86c5",
   "metadata": {},
   "outputs": [],
   "source": [
    "!nvidia-smi\n",
    "!pip list -v | grep [Aa]lbumentations"
   ]
  },
  {
   "cell_type": "code",
   "execution_count": null,
   "id": "f723b6b7",
   "metadata": {},
   "outputs": [],
   "source": [
    "# Train YOLOv5s on COCO128 for 5 epochs\n",
    "# run 'pip install wandb' to automatically track and visualize YOLOv5 🚀 runs in Weights & Biases\n",
    "!python train.py --img 1024 --batch-size 8 --epochs 10 --data yoloTACO.yaml --weights yolov5x.pt --freeze 10 --multi-scale \n"
   ]
  },
  {
   "cell_type": "code",
   "execution_count": null,
   "id": "a84553c0",
   "metadata": {},
   "outputs": [],
   "source": [
    "!python val.py --data yoloTACO.yaml --weights runs/train/exp/weights/best.pt"
   ]
  }
 ],
 "metadata": {
  "kernelspec": {
   "display_name": "Python 3 (ipykernel)",
   "language": "python",
   "name": "python3"
  },
  "language_info": {
   "codemirror_mode": {
    "name": "ipython",
    "version": 3
   },
   "file_extension": ".py",
   "mimetype": "text/x-python",
   "name": "python",
   "nbconvert_exporter": "python",
   "pygments_lexer": "ipython3",
   "version": "3.9.12"
  }
 },
 "nbformat": 4,
 "nbformat_minor": 5
}
