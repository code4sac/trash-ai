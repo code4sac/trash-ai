{
  "cells": [
    {
      "cell_type": "code",
      "execution_count": 1,
      "metadata": {
        "id": "RJQb7ylX2vHr"
      },
      "outputs": [],
      "source": [
        "# stratified_splitter"
      ]
    },
    {
      "cell_type": "code",
      "source": [
        "mount_drive=True\n",
        "reduced=False"
      ],
      "metadata": {
        "id": "eLwlGJnd03WG"
      },
      "execution_count": 2,
      "outputs": []
    },
    {
      "cell_type": "code",
      "source": [
        "%%bash\n",
        "find . \\! -name 'rotated2.zip' -delete"
      ],
      "metadata": {
        "id": "BOatsR0Ayvf9"
      },
      "execution_count": 3,
      "outputs": []
    },
    {
      "cell_type": "code",
      "execution_count": 4,
      "metadata": {
        "id": "FBHHieZsCbGS"
      },
      "outputs": [],
      "source": [
        "from PIL import Image, ExifTags\n",
        "from pycocotools.coco import COCO\n",
        "from matplotlib.patches import Polygon, Rectangle\n",
        "from matplotlib.collections import PatchCollection\n",
        "import colorsys\n",
        "import random\n",
        "import pylab\n",
        "from collections import Counter\n",
        "\n",
        "\n",
        "import json\n",
        "import numpy as np\n",
        "import pandas as pd\n",
        "import matplotlib.pyplot as plt\n",
        "import seaborn as sns; sns.set()\n",
        "from tqdm import tqdm\n",
        "\n",
        "import shutil\n",
        "import os\n",
        "\n",
        "import torch\n",
        "from torch.utils.data import Dataset, DataLoader\n",
        "from torchvision import transforms, utils"
      ]
    },
    {
      "cell_type": "code",
      "source": [
        "%%capture\n",
        "!wget https://raw.githubusercontent.com/scikit-multilearn/scikit-multilearn/master/skmultilearn/model_selection/iterative_stratification.py\n",
        "from iterative_stratification import *"
      ],
      "metadata": {
        "id": "9a-vq9oV09zD"
      },
      "execution_count": 5,
      "outputs": []
    },
    {
      "cell_type": "code",
      "execution_count": 6,
      "metadata": {
        "colab": {
          "base_uri": "https://localhost:8080/"
        },
        "id": "hL6YKD-F6UG3",
        "outputId": "c0cea04d-dc0d-48bf-cdd6-f64939b27ac9"
      },
      "outputs": [
        {
          "output_type": "stream",
          "name": "stdout",
          "text": [
            "Drive already mounted at /gdrive; to attempt to forcibly remount, call drive.mount(\"/gdrive\", force_remount=True).\n"
          ]
        }
      ],
      "source": [
        "if not mount_drive:\n",
        "  !gdown 1X3O2v3GIPveq3ylWF6o1qHI5uzbN1vWA # download organized TACO images (TACO itself, 1500 images, without unofficial images)\n",
        "\n",
        "if mount_drive:\n",
        "  from google.colab import drive\n",
        "  drive.mount('/gdrive')\n",
        "  if not os.path.isfile('/content/rotated2.zip'):\n",
        "    %cp /gdrive/MyDrive/rotated2_og.zip /content/rotated2.zip"
      ]
    },
    {
      "cell_type": "code",
      "execution_count": 7,
      "metadata": {
        "id": "UMKb-KDK3kta"
      },
      "outputs": [],
      "source": [
        "!unzip -qq rotated2.zip\n",
        "%mv /content/content/* /content"
      ]
    },
    {
      "cell_type": "code",
      "execution_count": 8,
      "metadata": {
        "colab": {
          "base_uri": "https://localhost:8080/"
        },
        "id": "fzhrp4RiHKiW",
        "outputId": "260ad9c8-304b-4716-87e0-8e1883615f8f"
      },
      "outputs": [
        {
          "output_type": "stream",
          "name": "stdout",
          "text": [
            "/content\n"
          ]
        }
      ],
      "source": [
        "!pwd"
      ]
    },
    {
      "cell_type": "code",
      "execution_count": 9,
      "metadata": {
        "colab": {
          "base_uri": "https://localhost:8080/"
        },
        "id": "CPFCzX31IGBq",
        "outputId": "8d1df5b7-b028-449e-bfb2-e693cadf952c"
      },
      "outputs": [
        {
          "output_type": "stream",
          "name": "stdout",
          "text": [
            "Number of all images:\n",
            "1500\n"
          ]
        },
        {
          "output_type": "stream",
          "name": "stderr",
          "text": [
            "  8%|▊         | 120/1500 [00:00<00:07, 190.93it/s]"
          ]
        },
        {
          "output_type": "stream",
          "name": "stdout",
          "text": [
            "image id number 101 skipped due to no label found\n"
          ]
        },
        {
          "output_type": "stream",
          "name": "stderr",
          "text": [
            "100%|██████████| 1500/1500 [00:08<00:00, 171.55it/s]\n"
          ]
        }
      ],
      "source": [
        "nr_imgs=None\n",
        "for root, dirnames, filenames in os.walk('./yoloTACO/labels/'):\n",
        "  nr_imgs = len(filenames)\n",
        "  break\n",
        "print('Number of all images:\\n'+str(nr_imgs))\n",
        "\n",
        "if reduced: nr_class = 28\n",
        "else: nr_class = 60\n",
        "\n",
        "xy = {}\n",
        "for i in tqdm([i for i in range(nr_imgs)]):\n",
        "  try: \n",
        "    X = pd.read_csv('./yoloTACO/labels/'+str(i)+'.txt',header = None,delimiter = ' ')\n",
        "    x = pd.DataFrame([Counter(X[0].tolist())],columns=[*range(nr_class)]).fillna(0).astype(int).iloc[[0]].squeeze().tolist()\n",
        "    y=i\n",
        "    xy[y]=x\n",
        "  except: \n",
        "    print('image id number '+str(i)+' skipped due to no label found')\n",
        "    pass\n",
        "X = pd.DataFrame.from_dict(xy, orient='index')\n",
        "\n",
        "y = xy.keys()\n",
        "one_hot_y = pd.get_dummies(y)\n",
        "\n",
        "## train test split\n",
        "'''\n",
        "train: images/train\n",
        "val: images/val\n",
        "test: images/test\n",
        "'''\n",
        "\n",
        "np.random.seed(5) # sk-multilearn is based on sk, sk uses np random state. \n",
        "                  # so, setting np random seed will clamp the results of iterative_train_test_split\n",
        "\n",
        "X_train, y_train, X_temp, y_temp = iterative_train_test_split(X.values, one_hot_y.values, test_size = 0.5)\n",
        "X_train1, y_train1, X_val, y_val = iterative_train_test_split(X_temp, y_temp, test_size = 0.5)\n",
        "X_val, y_val,X_test,y_test = iterative_train_test_split(X_val, y_val, test_size = 0.5)\n",
        "\n",
        "# ISSUE: in this environment, any test_size!= 0.5 results in nothing in testing set. \n",
        "# therefore train/val/test split is roughly .75, .125, .125\n",
        "\n",
        "y_train = np.vstack((y_train,y_train1))\n",
        "train_ids,val_ids,test_ids = pd.DataFrame(y_train,columns = y).idxmax(axis=1).tolist(),\\\n",
        "                            pd.DataFrame(y_val,columns = y).idxmax(axis=1).tolist(),\\\n",
        "                            pd.DataFrame(y_test,columns = y).idxmax(axis=1).tolist()\n"
      ]
    },
    {
      "cell_type": "code",
      "source": [
        "# check no intersection\n",
        "set(train_ids).intersection(set(val_ids)), set(train_ids).intersection(set(test_ids)), set(val_ids).intersection(set(test_ids)), "
      ],
      "metadata": {
        "colab": {
          "base_uri": "https://localhost:8080/"
        },
        "id": "DCGDYZ1DOF5H",
        "outputId": "0b3bc29f-2f00-47f1-f3b1-6906f3635bc1"
      },
      "execution_count": 10,
      "outputs": [
        {
          "output_type": "execute_result",
          "data": {
            "text/plain": [
              "(set(), set(), set())"
            ]
          },
          "metadata": {},
          "execution_count": 10
        }
      ]
    },
    {
      "cell_type": "code",
      "source": [
        "# check total number of img_ids\n",
        "# should be 1499, recall that id 101 was skipped due to no label in it\n",
        "len(set(train_ids).union(set(val_ids)).union(set(test_ids)))"
      ],
      "metadata": {
        "colab": {
          "base_uri": "https://localhost:8080/"
        },
        "id": "nyApvAiVOVDq",
        "outputId": "13194727-bd0f-4638-972a-bc137d393305"
      },
      "execution_count": 11,
      "outputs": [
        {
          "output_type": "execute_result",
          "data": {
            "text/plain": [
              "1499"
            ]
          },
          "metadata": {},
          "execution_count": 11
        }
      ]
    },
    {
      "cell_type": "code",
      "source": [
        "def list_add(list1, list2): return [sum(x) for x in zip(list1, list2)]\n",
        "def vis(img_id_list):\n",
        "  vis=[0]*nr_class\n",
        "  for i in img_id_list:\n",
        "    X = pd.read_csv('./yoloTACO/labels/'+str(i)+'.txt',header = None,delimiter = ' ')\n",
        "    x_ = pd.DataFrame([Counter(X[0].tolist())],columns=[*range(nr_class)]).fillna(0).astype(int).iloc[[0]].squeeze().tolist()\n",
        "    vis=list_add(vis,x_)\n",
        "  return vis"
      ],
      "metadata": {
        "id": "Rhwaw94mFR5L"
      },
      "execution_count": 12,
      "outputs": []
    },
    {
      "cell_type": "code",
      "source": [
        "from matplotlib.pyplot import figure\n",
        "figure(figsize=(12, 8), dpi=80)\n",
        "\n",
        "plt.bar([*range(nr_class)],vis(train_ids), width = 1, label = 'Train')\n",
        "plt.bar([*range(nr_class)],vis(val_ids), width = 1, label = 'Val',alpha = 0.5)\n",
        "plt.bar([*range(nr_class)],vis(test_ids), width = 1, label = 'Test',alpha = 0.5)\n",
        "\n",
        "plt.xticks([*range(nr_class)],rotation = 75)\n",
        "plt.xlabel(\"Class_id\")\n",
        "plt.ylabel(\"Number of occurrence\")\n",
        "plt.title(\"Class distribution in Train/Val/Test sets\")\n",
        "plt.legend()\n",
        "plt.show()"
      ],
      "metadata": {
        "colab": {
          "base_uri": "https://localhost:8080/",
          "height": 579
        },
        "id": "Y7nSVWT5Jo_-",
        "outputId": "f8e89de7-019e-481b-f0ec-dbdbd619552e"
      },
      "execution_count": 14,
      "outputs": [
        {
          "output_type": "display_data",
          "data": {
            "text/plain": [
              "<Figure size 960x640 with 1 Axes>"
            ],
            "image/png": "[encoded data removed]"
          },
          "metadata": {}
        }
      ]
    }
  ],
  "metadata": {
    "colab": {
      "collapsed_sections": [],
      "machine_shape": "hm",
      "provenance": []
    },
    "gpuClass": "standard",
    "kernelspec": {
      "display_name": "Python 3",
      "name": "python3"
    },
    "language_info": {
      "name": "python"
    }
  },
  "nbformat": 4,
  "nbformat_minor": 0
}