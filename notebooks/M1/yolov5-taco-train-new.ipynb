{
 "cells": [
  {
   "cell_type": "markdown",
   "metadata": {},
   "source": [
    "# Prep"
   ]
  },
  {
   "cell_type": "markdown",
   "metadata": {},
   "source": [
    "## Download data"
   ]
  },
  {
   "cell_type": "code",
   "execution_count": 1,
   "metadata": {},
   "outputs": [
    {
     "name": "stdout",
     "output_type": "stream",
     "text": [
      "/Users/ginadurante/Desktop/Data_sci/trashai/trash-ai-local-MBM1\r\n"
     ]
    }
   ],
   "source": [
    "# Check working directory; this is the location where the \n",
    "# yolov5 model and TACO dataset will download.  \n",
    "\n",
    "!pwd"
   ]
  },
  {
   "cell_type": "code",
   "execution_count": null,
   "metadata": {},
   "outputs": [],
   "source": [
    "# Change to different directory if necessary by editing path below, then uncomment line and run cell\n",
    "\n",
    "# %cd /path/to/project/dir  "
   ]
  },
  {
   "cell_type": "code",
   "execution_count": null,
   "metadata": {},
   "outputs": [],
   "source": [
    "!test -d TACO || git clone https://github.com/pedropro/TACO\n",
    "!test -d TACO"
   ]
  },
  {
   "cell_type": "code",
   "execution_count": null,
   "metadata": {},
   "outputs": [],
   "source": [
    "# Change working directory to TACO subdirectory\n",
    "%cd TACO"
   ]
  },
  {
   "cell_type": "code",
   "execution_count": null,
   "metadata": {},
   "outputs": [],
   "source": [
    "# Run download script\n",
    "%run download.py"
   ]
  },
  {
   "cell_type": "code",
   "execution_count": null,
   "metadata": {},
   "outputs": [],
   "source": [
    "# Move back up to parent directory \n",
    "%cd .."
   ]
  },
  {
   "cell_type": "markdown",
   "metadata": {},
   "source": [
    "## Download yolov5 and required packages"
   ]
  },
  {
   "cell_type": "code",
   "execution_count": null,
   "metadata": {
    "execution": {
     "iopub.execute_input": "2022-03-17T20:21:36.531170Z",
     "iopub.status.busy": "2022-03-17T20:21:36.530842Z",
     "iopub.status.idle": "2022-03-17T20:21:48.412132Z",
     "shell.execute_reply": "2022-03-17T20:21:48.411402Z",
     "shell.execute_reply.started": "2022-03-17T20:21:36.531091Z"
    },
    "scrolled": true
   },
   "outputs": [],
   "source": [
    "!test -d yolov5 || git clone https://github.com/ultralytics/yolov5\n",
    "!test -f yolov5 && test -d yolov5\n",
    "%cd yolov5\n",
    "!pip install --upgrade pip\n",
    "!pip install -r requirements.txt\n",
    "!pip install split-folders wandb torch tensorboard opencv-python torchvision pycocotools "
   ]
  },
  {
   "cell_type": "markdown",
   "metadata": {},
   "source": [
    "## Import pycocotools, get categories, and set up dictionary"
   ]
  },
  {
   "cell_type": "code",
   "execution_count": null,
   "metadata": {
    "execution": {
     "iopub.execute_input": "2022-03-17T20:22:22.821420Z",
     "iopub.status.busy": "2022-03-17T20:22:22.821078Z",
     "iopub.status.idle": "2022-03-17T20:22:23.057345Z",
     "shell.execute_reply": "2022-03-17T20:22:23.056625Z",
     "shell.execute_reply.started": "2022-03-17T20:22:22.821388Z"
    }
   },
   "outputs": [],
   "source": [
    "# import pycocotools\n",
    "from pycocotools.coco import COCO\n",
    "import numpy as np\n",
    "import tqdm\n",
    "import matplotlib.pyplot as plt\n",
    "%matplotlib inline\n",
    "annotation_path = '../TACO/data/annotations.json'\n",
    "\n",
    "data_source = COCO(annotation_file=annotation_path)\n",
    "catIds = data_source.getCatIds()\n",
    "categories = data_source.loadCats(catIds)\n",
    "categories.sort(key=lambda x: x['id'])"
   ]
  },
  {
   "cell_type": "code",
   "execution_count": null,
   "metadata": {
    "scrolled": true
   },
   "outputs": [],
   "source": [
    "categories  # Uncomment to view categories downloaded from TACO repo"
   ]
  },
  {
   "cell_type": "code",
   "execution_count": null,
   "metadata": {},
   "outputs": [],
   "source": [
    "len(categories)"
   ]
  },
  {
   "cell_type": "code",
   "execution_count": null,
   "metadata": {
    "execution": {
     "iopub.execute_input": "2022-03-17T20:22:23.059596Z",
     "iopub.status.busy": "2022-03-17T20:22:23.058501Z",
     "iopub.status.idle": "2022-03-17T20:22:23.065263Z",
     "shell.execute_reply": "2022-03-17T20:22:23.064355Z",
     "shell.execute_reply.started": "2022-03-17T20:22:23.059555Z"
    }
   },
   "outputs": [],
   "source": [
    "classes = {}\n",
    "taco_labels = {}\n",
    "taco_labels_inverse = {}\n",
    "\n",
    "for c in categories:\n",
    "    taco_labels[len(classes)] = c['id']\n",
    "    taco_labels_inverse[c['id']] = len(classes)\n",
    "    classes[c['name']] = len(classes)\n"
   ]
  },
  {
   "cell_type": "code",
   "execution_count": null,
   "metadata": {},
   "outputs": [],
   "source": [
    "len(classes)"
   ]
  },
  {
   "cell_type": "markdown",
   "metadata": {},
   "source": [
    "## Split data for training, validation, testing"
   ]
  },
  {
   "cell_type": "code",
   "execution_count": null,
   "metadata": {},
   "outputs": [],
   "source": [
    "# Check to make sure you're in yolov5 directory\n",
    "!pwd"
   ]
  },
  {
   "cell_type": "code",
   "execution_count": null,
   "metadata": {},
   "outputs": [],
   "source": [
    "%cd yolov5"
   ]
  },
  {
   "cell_type": "code",
   "execution_count": null,
   "metadata": {
    "execution": {
     "iopub.execute_input": "2022-03-17T20:22:23.092280Z",
     "iopub.status.busy": "2022-03-17T20:22:23.091375Z",
     "iopub.status.idle": "2022-03-17T20:22:24.391920Z",
     "shell.execute_reply": "2022-03-17T20:22:24.391092Z",
     "shell.execute_reply.started": "2022-03-17T20:22:23.092243Z"
    }
   },
   "outputs": [],
   "source": [
    "!mkdir -p tmp/labels tmp/images"
   ]
  },
  {
   "cell_type": "code",
   "execution_count": null,
   "metadata": {
    "execution": {
     "iopub.execute_input": "2022-03-17T20:22:24.409351Z",
     "iopub.status.busy": "2022-03-17T20:22:24.409034Z",
     "iopub.status.idle": "2022-03-17T20:23:11.682164Z",
     "shell.execute_reply": "2022-03-17T20:23:11.681485Z",
     "shell.execute_reply.started": "2022-03-17T20:22:24.409315Z"
    }
   },
   "outputs": [],
   "source": [
    "IMAGES_PATH = 'tmp/images/'\n",
    "LABELS_PATH = 'tmp/labels/'\n",
    "import shutil\n",
    "import os\n",
    "img_ids = data_source.getImgIds()\n",
    "\n",
    "for index, img_id in tqdm.tqdm(enumerate(img_ids)):\n",
    "    img_info = data_source.loadImgs(img_id)[0]\n",
    "    # img_dir: batch_x/.....jpg ---> batch_x_......jpg\n",
    "    img_dir = img_info['file_name'].replace('/', '_')\n",
    "    \n",
    "    image_name = img_dir.split('.')[0]\n",
    "    label_dir = LABELS_PATH + image_name + '.txt'\n",
    "    \n",
    "    height = img_info['height']\n",
    "    width = img_info['width']\n",
    "\n",
    "    # get images\n",
    "    shutil.copy(f\"../TACO/data/{img_info['file_name']}\", os.path.join(IMAGES_PATH, img_dir))\n",
    "\n",
    "    # get labels\n",
    "    with open(label_dir, mode='w') as fp:\n",
    "        annotation_id = data_source.getAnnIds(img_id)\n",
    "        if len(annotation_id) == 0:\n",
    "            fp.write('')\n",
    "            continue\n",
    "        boxes = np.zeros((0, 5))\n",
    "        annotations = data_source.loadAnns(annotation_id)\n",
    "        lines = ''\n",
    "        for annotation in annotations:\n",
    "            label = taco_labels_inverse[annotation['category_id']]\n",
    "            box = annotation['bbox']\n",
    "            # some annotations have basically no width / height (extremely small), skip them\n",
    "            if box[2] < 1 or box[3] < 1:\n",
    "                continue\n",
    "            # top_x,top_y,width,height ----> cen_x,cen_y,width,height\n",
    "            # standardize to 0-1\n",
    "            box[0] = round((box[0] + box[2] / 2) / width, 6)\n",
    "            box[1] = round((box[1] + box[3] / 2) / height, 6)\n",
    "            box[2] = round(box[2] / width, 6)\n",
    "            box[3] = round(box[3] / height, 6)\n",
    "            # line: label x_center y_center width height\n",
    "            lines = lines + str(label)\n",
    "            for i in box:\n",
    "                lines += ' ' + str(i)\n",
    "            lines += '\\n'\n",
    "        fp.writelines(lines)"
   ]
  },
  {
   "cell_type": "code",
   "execution_count": null,
   "metadata": {
    "execution": {
     "iopub.execute_input": "2022-03-17T20:23:11.683832Z",
     "iopub.status.busy": "2022-03-17T20:23:11.683574Z",
     "iopub.status.idle": "2022-03-17T20:23:11.691300Z",
     "shell.execute_reply": "2022-03-17T20:23:11.690466Z",
     "shell.execute_reply.started": "2022-03-17T20:23:11.683797Z"
    }
   },
   "outputs": [],
   "source": [
    "print(len(os.listdir(IMAGES_PATH)))\n",
    "print(len(os.listdir(LABELS_PATH)))"
   ]
  },
  {
   "cell_type": "code",
   "execution_count": null,
   "metadata": {
    "execution": {
     "iopub.execute_input": "2022-03-17T20:23:20.324165Z",
     "iopub.status.busy": "2022-03-17T20:23:20.323885Z",
     "iopub.status.idle": "2022-03-17T20:23:33.688374Z",
     "shell.execute_reply": "2022-03-17T20:23:33.687644Z",
     "shell.execute_reply.started": "2022-03-17T20:23:20.324130Z"
    }
   },
   "outputs": [],
   "source": [
    "import splitfolders\n",
    "splitfolders.ratio('tmp', output='taco', seed=1337, ratio=(.8, 0.1,0.1)) "
   ]
  },
  {
   "cell_type": "markdown",
   "metadata": {},
   "source": [
    "Check files:"
   ]
  },
  {
   "cell_type": "code",
   "execution_count": null,
   "metadata": {},
   "outputs": [],
   "source": [
    "!pwd"
   ]
  },
  {
   "cell_type": "code",
   "execution_count": null,
   "metadata": {},
   "outputs": [],
   "source": [
    "# Change to yolov5 directory if not still there\n",
    "# %cd yolov5"
   ]
  },
  {
   "cell_type": "code",
   "execution_count": null,
   "metadata": {
    "execution": {
     "iopub.execute_input": "2022-03-17T20:23:33.690462Z",
     "iopub.status.busy": "2022-03-17T20:23:33.689946Z",
     "iopub.status.idle": "2022-03-17T20:23:33.698793Z",
     "shell.execute_reply": "2022-03-17T20:23:33.698006Z",
     "shell.execute_reply.started": "2022-03-17T20:23:33.690409Z"
    }
   },
   "outputs": [],
   "source": [
    "print(sorted(os.listdir('taco/train/images'))[:5])\n",
    "print(sorted(os.listdir('taco/val/images'))[:5])\n",
    "print(sorted(os.listdir('taco/test/images'))[:5])"
   ]
  },
  {
   "cell_type": "markdown",
   "metadata": {},
   "source": [
    "Remove tmp fodler"
   ]
  },
  {
   "cell_type": "code",
   "execution_count": null,
   "metadata": {
    "execution": {
     "iopub.execute_input": "2022-03-17T20:23:34.372524Z",
     "iopub.status.busy": "2022-03-17T20:23:34.371791Z",
     "iopub.status.idle": "2022-03-17T20:23:35.387914Z",
     "shell.execute_reply": "2022-03-17T20:23:35.387041Z",
     "shell.execute_reply.started": "2022-03-17T20:23:34.372481Z"
    }
   },
   "outputs": [],
   "source": [
    "!rm -r tmp"
   ]
  },
  {
   "cell_type": "markdown",
   "metadata": {},
   "source": [
    "Run this if the error \"a view of a leaf Variable that requires grad is being used in an in-place operation\", then train again"
   ]
  },
  {
   "cell_type": "code",
   "execution_count": null,
   "metadata": {},
   "outputs": [],
   "source": [
    "# Run this only if the error \"a view of a leaf Variable that requires grad is being used in an in-place operation\", then train again\n",
    "\n",
    "import time\n",
    "\n",
    "import time\n",
    "from pathlib import Path\n",
    "import shutil\n",
    "\n",
    "RUNS_DIR=Path(\"runs/train\")\n",
    "PRUN_DIR=Path(f'prev_runs/{time.strftime(\"%Y%m%d_%H%M%S\")}')\n",
    "PRUN_DIR.mkdir(parents=True, exist_ok=True)\n",
    "for i in RUNS_DIR.glob('*'):\n",
    "    print(f'moving previous run {i} to {PRUN_DIR}')\n",
    "    shutil.move(str(i), str(PRUN_DIR))"
   ]
  },
  {
   "cell_type": "markdown",
   "metadata": {},
   "source": [
    "# New Training ~ 6 hours on 16 i9 cores"
   ]
  },
  {
   "cell_type": "code",
   "execution_count": null,
   "metadata": {
    "execution": {
     "iopub.execute_input": "2022-03-17T20:23:45.326673Z",
     "iopub.status.busy": "2022-03-17T20:23:45.326399Z"
    },
    "scrolled": false
   },
   "outputs": [],
   "source": [
    "# Be forewarned, this takes ~6 hours training for 50 epochs on 16 i9 cores\n",
    "import time\n",
    "import shutil\n",
    "start = time.time()\n",
    "!wandb disabled\n",
    "!python train.py --multi-scale \\\n",
    "    --img 640 \\\n",
    "    --batch 32 \\\n",
    "    --epochs 10 \\\n",
    "    --data ../taco.yaml   # change path to taco.yaml as needed\n",
    "\n",
    "end = time.time()"
   ]
  },
  {
   "cell_type": "code",
   "execution_count": null,
   "metadata": {},
   "outputs": [],
   "source": [
    "print('Training time:', end - start, 'seconds')"
   ]
  },
  {
   "cell_type": "markdown",
   "metadata": {},
   "source": [
    "## Show the training result"
   ]
  },
  {
   "cell_type": "code",
   "execution_count": null,
   "metadata": {},
   "outputs": [],
   "source": [
    "# Check working directory\n",
    "!pwd"
   ]
  },
  {
   "cell_type": "code",
   "execution_count": null,
   "metadata": {},
   "outputs": [],
   "source": [
    "# Switch to yolov5 directory if you're not already in it\n",
    "# %cd /path/to/yolov5   # Change path name, uncomment this line, and run cell to switch to yolov5 directory"
   ]
  },
  {
   "cell_type": "markdown",
   "metadata": {},
   "source": [
    "Now that you're in the yolov5 directory, change to the the runs/train/exp directory.  Note that if you have more than one model run, you may see multiple './exp' files, e.g., 'runs/train/exp', 'runs/train/exp2', 'runs/train/exp3', etc. in your local directory. Change the path name to the appropriate './exp' file to pull results from most recent successful run."
   ]
  },
  {
   "cell_type": "code",
   "execution_count": null,
   "metadata": {},
   "outputs": [],
   "source": [
    "# Change the path name to relevant './exp' file \n",
    "    \n",
    "%cd 'runs/train/exp' \n",
    "%ls  "
   ]
  },
  {
   "cell_type": "code",
   "execution_count": null,
   "metadata": {
    "scrolled": false
   },
   "outputs": [],
   "source": [
    "res_path = 'results.png'\n",
    "img = plt.imread(res_path)\n",
    "plt.figure(figsize=(20, 20))\n",
    "plt.imshow(img)\n",
    "plt.xticks([])\n",
    "plt.yticks([])\n",
    "plt.show()"
   ]
  },
  {
   "cell_type": "code",
   "execution_count": null,
   "metadata": {
    "scrolled": false
   },
   "outputs": [],
   "source": [
    "# %cd /path/to/yolov5   # change directory to make sure that you're in the yolov5 directory\n",
    "!python detect.py \\\n",
    "   --weights runs/train/exp/weights/best.pt \\\n",
    "   --img 640 --conf 0.25 --source taco/test/images "
   ]
  },
  {
   "cell_type": "code",
   "execution_count": null,
   "metadata": {
    "scrolled": true
   },
   "outputs": [],
   "source": [
    "OUT_PATH = 'runs/detect/exp'\n",
    "cnt = 0\n",
    "for file in os.listdir(OUT_PATH):\n",
    "    img = plt.imread(os.path.join(OUT_PATH, file))\n",
    "    plt.figure(figsize=(15, 15))\n",
    "    plt.imshow(img)\n",
    "    plt.xticks([])\n",
    "    plt.yticks([])\n",
    "    plt.show()\n",
    "    cnt += 1"
   ]
  },
  {
   "cell_type": "code",
   "execution_count": null,
   "metadata": {
    "scrolled": false
   },
   "outputs": [],
   "source": [
    "# Generate web model  \n",
    "# Note:  You will need to have Tensorflowjs installed on your machine to run this successfully.\n",
    "\n",
    "import time\n",
    "from pathlib import Path\n",
    "import shutil\n",
    "import os\n",
    "\n",
    "BN=\"trained\"\n",
    "SRC_DIR=Path('runs/train/exp')\n",
    "SAVE_PT=SRC_DIR.joinpath('weights/best.pt')\n",
    "PRUN_DIR=Path('prev_runs')\n",
    "TS=time.time()\n",
    "DEST_DIR=Path(f'{PRUN_DIR}/{TS}')\n",
    "DEST_DIR.mkdir(parents=True, exist_ok=True)\n",
    "DEST_FILE=DEST_DIR.joinpath(f'{BN}.pt')\n",
    "MODEL_DIR=DEST_DIR.joinpath(f'{TS}/{BN}_web_model')\n",
    "print(f'moving previous run {SAVE_PT} to {DEST_FILE}')\n",
    "shutil.move(str(SAVE_PT), str(DEST_FILE))\n",
    "cmd = f'''\n",
    "python export.py \\\n",
    "   --weights  {DEST_FILE} \\\n",
    "   --include tfjs \n",
    "'''\n",
    "os.system(cmd)\n",
    "shutil.rmtree(str(SRC_DIR))\n"
   ]
  },
  {
   "cell_type": "code",
   "execution_count": null,
   "metadata": {},
   "outputs": [],
   "source": []
  }
 ],
 "metadata": {
  "kernelspec": {
   "display_name": "Python 3 (ipykernel)",
   "language": "python",
   "name": "python3"
  },
  "language_info": {
   "codemirror_mode": {
    "name": "ipython",
    "version": 3
   },
   "file_extension": ".py",
   "mimetype": "text/x-python",
   "name": "python",
   "nbconvert_exporter": "python",
   "pygments_lexer": "ipython3",
   "version": "3.8.6"
  },
  "toc": {
   "base_numbering": 1,
   "nav_menu": {},
   "number_sections": true,
   "sideBar": true,
   "skip_h1_title": false,
   "title_cell": "Table of Contents",
   "title_sidebar": "Contents",
   "toc_cell": false,
   "toc_position": {},
   "toc_section_display": true,
   "toc_window_display": false
  }
 },
 "nbformat": 4,
 "nbformat_minor": 4
}
