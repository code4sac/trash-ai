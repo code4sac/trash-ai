{
 "cells": [
  {
   "cell_type": "code",
   "execution_count": 1,
   "metadata": {
    "execution": {
     "iopub.execute_input": "2022-03-17T20:21:36.531170Z",
     "iopub.status.busy": "2022-03-17T20:21:36.530842Z",
     "iopub.status.idle": "2022-03-17T20:21:48.412132Z",
     "shell.execute_reply": "2022-03-17T20:21:48.411402Z",
     "shell.execute_reply.started": "2022-03-17T20:21:36.531091Z"
    },
    "scrolled": true
   },
   "outputs": [
    {
     "name": "stdout",
     "output_type": "stream",
     "text": [
      "Cloning into 'yolov5'...\n",
      "remote: Enumerating objects: 11371, done.\u001b[K\n",
      "remote: Total 11371 (delta 0), reused 0 (delta 0), pack-reused 11371\u001b[K\n",
      "Receiving objects: 100% (11371/11371), 11.28 MiB | 17.64 MiB/s, done.\n",
      "Resolving deltas: 100% (7844/7844), done.\n",
      "docker-compose.yaml  run_notebook.sh\t   wandb\t      yolov5-taco.zip\n",
      "Dockerfile\t     taco\t\t   yolov5\n",
      "name_map.py\t     tacotrashdataset\t   yolov5-taco\n",
      "README.md\t     tacotrashdataset.zip  yolov5-taco.ipynb\n",
      "/home/jovyan/work/yolov5\n",
      "Requirement already satisfied: pip in /opt/conda/lib/python3.9/site-packages (22.0.4)\n",
      "\u001b[31mERROR: Could not find a version that satisfies the requirement requirements.txt (from versions: none)\u001b[0m\u001b[31m\n",
      "\u001b[0mHINT: You are attempting to install a package literally named \"requirements.txt\" (which cannot exist). Consider using the '-r' flag to install the packages listed in requirements.txt\n",
      "\u001b[31mERROR: No matching distribution found for requirements.txt\u001b[0m\u001b[31m\n",
      "\u001b[0mRequirement already satisfied: pycocotools in /opt/conda/lib/python3.9/site-packages (2.0.4)\n",
      "Requirement already satisfied: split-folders in /opt/conda/lib/python3.9/site-packages (0.5.1)\n",
      "Requirement already satisfied: wandb in /opt/conda/lib/python3.9/site-packages (0.12.11)\n",
      "Requirement already satisfied: torch==1.7.1 in /opt/conda/lib/python3.9/site-packages (1.7.1)\n",
      "Requirement already satisfied: tensorboard in /opt/conda/lib/python3.9/site-packages (2.8.0)\n",
      "Requirement already satisfied: opencv-python in /opt/conda/lib/python3.9/site-packages (4.5.5.64)\n",
      "Requirement already satisfied: torchvision in /opt/conda/lib/python3.9/site-packages (0.8.2)\n",
      "Requirement already satisfied: numpy in /opt/conda/lib/python3.9/site-packages (from torch==1.7.1) (1.21.5)\n",
      "Requirement already satisfied: typing-extensions in /opt/conda/lib/python3.9/site-packages (from torch==1.7.1) (4.0.1)\n",
      "Requirement already satisfied: matplotlib>=2.1.0 in /opt/conda/lib/python3.9/site-packages (from pycocotools) (3.5.1)\n",
      "Requirement already satisfied: six>=1.13.0 in /opt/conda/lib/python3.9/site-packages (from wandb) (1.16.0)\n",
      "Requirement already satisfied: psutil>=5.0.0 in /opt/conda/lib/python3.9/site-packages (from wandb) (5.9.0)\n",
      "Requirement already satisfied: requests<3,>=2.0.0 in /opt/conda/lib/python3.9/site-packages (from wandb) (2.27.1)\n",
      "Requirement already satisfied: docker-pycreds>=0.4.0 in /opt/conda/lib/python3.9/site-packages (from wandb) (0.4.0)\n",
      "Requirement already satisfied: promise<3,>=2.0 in /opt/conda/lib/python3.9/site-packages (from wandb) (2.3)\n",
      "Requirement already satisfied: sentry-sdk>=1.0.0 in /opt/conda/lib/python3.9/site-packages (from wandb) (1.5.7)\n",
      "Requirement already satisfied: yaspin>=1.0.0 in /opt/conda/lib/python3.9/site-packages (from wandb) (2.1.0)\n",
      "Requirement already satisfied: pathtools in /opt/conda/lib/python3.9/site-packages (from wandb) (0.1.2)\n",
      "Requirement already satisfied: Click!=8.0.0,>=7.0 in /opt/conda/lib/python3.9/site-packages (from wandb) (8.0.3)\n",
      "Requirement already satisfied: python-dateutil>=2.6.1 in /opt/conda/lib/python3.9/site-packages (from wandb) (2.8.2)\n",
      "Requirement already satisfied: protobuf>=3.12.0 in /opt/conda/lib/python3.9/site-packages (from wandb) (3.19.3)\n",
      "Requirement already satisfied: GitPython>=1.0.0 in /opt/conda/lib/python3.9/site-packages (from wandb) (3.1.27)\n",
      "Requirement already satisfied: PyYAML in /opt/conda/lib/python3.9/site-packages (from wandb) (6.0)\n",
      "Requirement already satisfied: setproctitle in /opt/conda/lib/python3.9/site-packages (from wandb) (1.2.2)\n",
      "Requirement already satisfied: shortuuid>=0.5.0 in /opt/conda/lib/python3.9/site-packages (from wandb) (1.0.8)\n",
      "Requirement already satisfied: markdown>=2.6.8 in /opt/conda/lib/python3.9/site-packages (from tensorboard) (3.3.6)\n",
      "Requirement already satisfied: werkzeug>=0.11.15 in /opt/conda/lib/python3.9/site-packages (from tensorboard) (2.0.3)\n",
      "Requirement already satisfied: grpcio>=1.24.3 in /opt/conda/lib/python3.9/site-packages (from tensorboard) (1.44.0)\n",
      "Requirement already satisfied: setuptools>=41.0.0 in /opt/conda/lib/python3.9/site-packages (from tensorboard) (59.8.0)\n",
      "Requirement already satisfied: google-auth<3,>=1.6.3 in /opt/conda/lib/python3.9/site-packages (from tensorboard) (2.6.2)\n",
      "Requirement already satisfied: wheel>=0.26 in /opt/conda/lib/python3.9/site-packages (from tensorboard) (0.37.1)\n",
      "Requirement already satisfied: google-auth-oauthlib<0.5,>=0.4.1 in /opt/conda/lib/python3.9/site-packages (from tensorboard) (0.4.6)\n",
      "Requirement already satisfied: absl-py>=0.4 in /opt/conda/lib/python3.9/site-packages (from tensorboard) (1.0.0)\n",
      "Requirement already satisfied: tensorboard-data-server<0.7.0,>=0.6.0 in /opt/conda/lib/python3.9/site-packages (from tensorboard) (0.6.1)\n",
      "Requirement already satisfied: tensorboard-plugin-wit>=1.6.0 in /opt/conda/lib/python3.9/site-packages (from tensorboard) (1.8.1)\n",
      "Requirement already satisfied: pillow>=4.1.1 in /opt/conda/lib/python3.9/site-packages (from torchvision) (8.4.0)\n",
      "Requirement already satisfied: gitdb<5,>=4.0.1 in /opt/conda/lib/python3.9/site-packages (from GitPython>=1.0.0->wandb) (4.0.9)\n",
      "Requirement already satisfied: cachetools<6.0,>=2.0.0 in /opt/conda/lib/python3.9/site-packages (from google-auth<3,>=1.6.3->tensorboard) (5.0.0)\n",
      "Requirement already satisfied: pyasn1-modules>=0.2.1 in /opt/conda/lib/python3.9/site-packages (from google-auth<3,>=1.6.3->tensorboard) (0.2.8)\n",
      "Requirement already satisfied: rsa<5,>=3.1.4 in /opt/conda/lib/python3.9/site-packages (from google-auth<3,>=1.6.3->tensorboard) (4.8)\n",
      "Requirement already satisfied: requests-oauthlib>=0.7.0 in /opt/conda/lib/python3.9/site-packages (from google-auth-oauthlib<0.5,>=0.4.1->tensorboard) (1.3.1)\n",
      "Requirement already satisfied: importlib-metadata>=4.4 in /opt/conda/lib/python3.9/site-packages (from markdown>=2.6.8->tensorboard) (4.10.1)\n",
      "Requirement already satisfied: fonttools>=4.22.0 in /opt/conda/lib/python3.9/site-packages (from matplotlib>=2.1.0->pycocotools) (4.28.5)\n",
      "Requirement already satisfied: pyparsing>=2.2.1 in /opt/conda/lib/python3.9/site-packages (from matplotlib>=2.1.0->pycocotools) (3.0.6)\n",
      "Requirement already satisfied: cycler>=0.10 in /opt/conda/lib/python3.9/site-packages (from matplotlib>=2.1.0->pycocotools) (0.11.0)\n",
      "Requirement already satisfied: packaging>=20.0 in /opt/conda/lib/python3.9/site-packages (from matplotlib>=2.1.0->pycocotools) (21.3)\n",
      "Requirement already satisfied: kiwisolver>=1.0.1 in /opt/conda/lib/python3.9/site-packages (from matplotlib>=2.1.0->pycocotools) (1.3.2)\n",
      "Requirement already satisfied: certifi>=2017.4.17 in /opt/conda/lib/python3.9/site-packages (from requests<3,>=2.0.0->wandb) (2021.10.8)\n",
      "Requirement already satisfied: charset-normalizer~=2.0.0 in /opt/conda/lib/python3.9/site-packages (from requests<3,>=2.0.0->wandb) (2.0.10)\n",
      "Requirement already satisfied: urllib3<1.27,>=1.21.1 in /opt/conda/lib/python3.9/site-packages (from requests<3,>=2.0.0->wandb) (1.26.8)\n",
      "Requirement already satisfied: idna<4,>=2.5 in /opt/conda/lib/python3.9/site-packages (from requests<3,>=2.0.0->wandb) (3.3)\n",
      "Requirement already satisfied: termcolor<2.0.0,>=1.1.0 in /opt/conda/lib/python3.9/site-packages (from yaspin>=1.0.0->wandb) (1.1.0)\n",
      "Requirement already satisfied: smmap<6,>=3.0.1 in /opt/conda/lib/python3.9/site-packages (from gitdb<5,>=4.0.1->GitPython>=1.0.0->wandb) (5.0.0)\n",
      "Requirement already satisfied: zipp>=0.5 in /opt/conda/lib/python3.9/site-packages (from importlib-metadata>=4.4->markdown>=2.6.8->tensorboard) (3.7.0)\n",
      "Requirement already satisfied: pyasn1<0.5.0,>=0.4.6 in /opt/conda/lib/python3.9/site-packages (from pyasn1-modules>=0.2.1->google-auth<3,>=1.6.3->tensorboard) (0.4.8)\n",
      "Requirement already satisfied: oauthlib>=3.0.0 in /opt/conda/lib/python3.9/site-packages (from requests-oauthlib>=0.7.0->google-auth-oauthlib<0.5,>=0.4.1->tensorboard) (3.1.1)\n"
     ]
    }
   ],
   "source": [
    "!test -d yolov5 || git clone https://github.com/ultralytics/yolov5\n",
    "!ls\n",
    "!test -f tacotrashdataset.zip  && test -d tacotrashdataset || unzip tacotrashdataset.zip  -d tacotrashdataset\n",
    "!test -f yolov5-taco.zip && test -d yolov5-taco || unzip yolov5-taco.zip -d yolov5-taco\n",
    "%cd yolov5\n",
    "!pip install --upgrade pip\n",
    "!pip install requirements.txt\n",
    "!pip install pycocotools split-folders wandb torch==1.7.1 tensorboard opencv-python torchvision"
   ]
  },
  {
   "cell_type": "code",
   "execution_count": 2,
   "metadata": {
    "execution": {
     "iopub.execute_input": "2022-03-17T20:22:22.821420Z",
     "iopub.status.busy": "2022-03-17T20:22:22.821078Z",
     "iopub.status.idle": "2022-03-17T20:22:23.057345Z",
     "shell.execute_reply": "2022-03-17T20:22:23.056625Z",
     "shell.execute_reply.started": "2022-03-17T20:22:22.821388Z"
    }
   },
   "outputs": [
    {
     "name": "stdout",
     "output_type": "stream",
     "text": [
      "loading annotations into memory...\n",
      "Done (t=0.07s)\n",
      "creating index...\n",
      "index created!\n"
     ]
    }
   ],
   "source": [
    "from pycocotools.coco import COCO\n",
    "import numpy as np\n",
    "import tqdm\n",
    "import matplotlib.pyplot as plt\n",
    "%matplotlib inline\n",
    "annotation_path = '../tacotrashdataset/data/annotations.json'\n",
    "\n",
    "data_source = COCO(annotation_file=annotation_path)\n",
    "catIds = data_source.getCatIds()\n",
    "categories = data_source.loadCats(catIds)\n",
    "categories.sort(key=lambda x: x['id'])"
   ]
  },
  {
   "cell_type": "markdown",
   "metadata": {},
   "source": [
    "### Class dictionary"
   ]
  },
  {
   "cell_type": "code",
   "execution_count": 3,
   "metadata": {
    "execution": {
     "iopub.execute_input": "2022-03-17T20:22:23.059596Z",
     "iopub.status.busy": "2022-03-17T20:22:23.058501Z",
     "iopub.status.idle": "2022-03-17T20:22:23.065263Z",
     "shell.execute_reply": "2022-03-17T20:22:23.064355Z",
     "shell.execute_reply.started": "2022-03-17T20:22:23.059555Z"
    }
   },
   "outputs": [],
   "source": [
    "classes = {}\n",
    "taco_labels = {}\n",
    "taco_labels_inverse = {}\n",
    "\n",
    "for c in categories:\n",
    "    taco_labels[len(classes)] = c['id']\n",
    "    taco_labels_inverse[c['id']] = len(classes)\n",
    "    classes[c['name']] = len(classes)"
   ]
  },
  {
   "cell_type": "markdown",
   "metadata": {},
   "source": [
    "### Split data for training, validation, testing"
   ]
  },
  {
   "cell_type": "code",
   "execution_count": 4,
   "metadata": {
    "execution": {
     "iopub.execute_input": "2022-03-17T20:22:23.092280Z",
     "iopub.status.busy": "2022-03-17T20:22:23.091375Z",
     "iopub.status.idle": "2022-03-17T20:22:24.391920Z",
     "shell.execute_reply": "2022-03-17T20:22:24.391092Z",
     "shell.execute_reply.started": "2022-03-17T20:22:23.092243Z"
    }
   },
   "outputs": [
    {
     "name": "stdout",
     "output_type": "stream",
     "text": [
      "CONTRIBUTING.md  export.py   README.md\t       train.py\r\n",
      "data\t\t hubconf.py  requirements.txt  tutorial.ipynb\r\n",
      "detect.py\t LICENSE     setup.cfg\t       utils\r\n",
      "Dockerfile\t models      tmp\t       val.py\r\n"
     ]
    }
   ],
   "source": [
    "!mkdir -p tmp/labels tmp/images\n",
    "!ls"
   ]
  },
  {
   "cell_type": "code",
   "execution_count": 5,
   "metadata": {
    "execution": {
     "iopub.execute_input": "2022-03-17T20:22:24.409351Z",
     "iopub.status.busy": "2022-03-17T20:22:24.409034Z",
     "iopub.status.idle": "2022-03-17T20:23:11.682164Z",
     "shell.execute_reply": "2022-03-17T20:23:11.681485Z",
     "shell.execute_reply.started": "2022-03-17T20:22:24.409315Z"
    }
   },
   "outputs": [
    {
     "name": "stderr",
     "output_type": "stream",
     "text": [
      "1500it [00:01, 969.18it/s] \n"
     ]
    }
   ],
   "source": [
    "IMAGES_PATH = 'tmp/images/'\n",
    "LABELS_PATH = 'tmp/labels/'\n",
    "import shutil\n",
    "import os\n",
    "img_ids = data_source.getImgIds()\n",
    "\n",
    "for index, img_id in tqdm.tqdm(enumerate(img_ids)):\n",
    "    img_info = data_source.loadImgs(img_id)[0]\n",
    "    # img_dir: batch_x/.....jpg ---> batch_x_......jpg\n",
    "    img_dir = img_info['file_name'].replace('/', '_')\n",
    "    \n",
    "    image_name = img_dir.split('.')[0]\n",
    "    label_dir = LABELS_PATH + image_name + '.txt'\n",
    "    \n",
    "    height = img_info['height']\n",
    "    width = img_info['width']\n",
    "\n",
    "    # get images\n",
    "    shutil.copy(f\"../tacotrashdataset/data/{img_info['file_name']}\", os.path.join(IMAGES_PATH, img_dir))\n",
    "\n",
    "    # get labels\n",
    "    with open(label_dir, mode='w') as fp:\n",
    "        annotation_id = data_source.getAnnIds(img_id)\n",
    "        if len(annotation_id) == 0:\n",
    "            fp.write('')\n",
    "            continue\n",
    "        boxes = np.zeros((0, 5))\n",
    "        annotations = data_source.loadAnns(annotation_id)\n",
    "        lines = ''\n",
    "        for annotation in annotations:\n",
    "            label = taco_labels_inverse[annotation['category_id']]\n",
    "            box = annotation['bbox']\n",
    "            # some annotations have basically no width / height (extremely small), skip them\n",
    "            if box[2] < 1 or box[3] < 1:\n",
    "                continue\n",
    "            # top_x,top_y,width,height ----> cen_x,cen_y,width,height\n",
    "            # standardize to 0-1\n",
    "            box[0] = round((box[0] + box[2] / 2) / width, 6)\n",
    "            box[1] = round((box[1] + box[3] / 2) / height, 6)\n",
    "            box[2] = round(box[2] / width, 6)\n",
    "            box[3] = round(box[3] / height, 6)\n",
    "            # line: label x_center y_center width height\n",
    "            lines = lines + str(label)\n",
    "            for i in box:\n",
    "                lines += ' ' + str(i)\n",
    "            lines += '\\n'\n",
    "        fp.writelines(lines)"
   ]
  },
  {
   "cell_type": "code",
   "execution_count": 6,
   "metadata": {
    "execution": {
     "iopub.execute_input": "2022-03-17T20:23:11.683832Z",
     "iopub.status.busy": "2022-03-17T20:23:11.683574Z",
     "iopub.status.idle": "2022-03-17T20:23:11.691300Z",
     "shell.execute_reply": "2022-03-17T20:23:11.690466Z",
     "shell.execute_reply.started": "2022-03-17T20:23:11.683797Z"
    }
   },
   "outputs": [
    {
     "name": "stdout",
     "output_type": "stream",
     "text": [
      "1500\n",
      "1500\n"
     ]
    }
   ],
   "source": [
    "print(len(os.listdir(IMAGES_PATH)))\n",
    "print(len(os.listdir(LABELS_PATH)))"
   ]
  },
  {
   "cell_type": "code",
   "execution_count": 7,
   "metadata": {
    "execution": {
     "iopub.execute_input": "2022-03-17T20:23:20.324165Z",
     "iopub.status.busy": "2022-03-17T20:23:20.323885Z",
     "iopub.status.idle": "2022-03-17T20:23:33.688374Z",
     "shell.execute_reply": "2022-03-17T20:23:33.687644Z",
     "shell.execute_reply.started": "2022-03-17T20:23:20.324130Z"
    }
   },
   "outputs": [
    {
     "name": "stderr",
     "output_type": "stream",
     "text": [
      "Copying files: 3000 files [00:01, 1917.06 files/s]\n"
     ]
    }
   ],
   "source": [
    "import splitfolders\n",
    "splitfolders.ratio('tmp', output='taco', seed=1337, ratio=(.8, 0.1,0.1)) "
   ]
  },
  {
   "cell_type": "markdown",
   "metadata": {},
   "source": [
    "Check files:"
   ]
  },
  {
   "cell_type": "code",
   "execution_count": 8,
   "metadata": {
    "execution": {
     "iopub.execute_input": "2022-03-17T20:23:33.690462Z",
     "iopub.status.busy": "2022-03-17T20:23:33.689946Z",
     "iopub.status.idle": "2022-03-17T20:23:33.698793Z",
     "shell.execute_reply": "2022-03-17T20:23:33.698006Z",
     "shell.execute_reply.started": "2022-03-17T20:23:33.690409Z"
    }
   },
   "outputs": [
    {
     "name": "stdout",
     "output_type": "stream",
     "text": [
      "['batch_10_000001.jpg', 'batch_10_000002.jpg', 'batch_10_000003.jpg', 'batch_10_000004.jpg', 'batch_10_000006.jpg']\n",
      "['batch_10_000000.jpg', 'batch_10_000005.jpg', 'batch_10_000014.jpg', 'batch_10_000026.jpg', 'batch_10_000031.jpg']\n",
      "['batch_10_000025.jpg', 'batch_10_000035.jpg', 'batch_10_000036.jpg', 'batch_10_000050.jpg', 'batch_10_000087.jpg']\n"
     ]
    }
   ],
   "source": [
    "print(sorted(os.listdir('taco/train/images'))[:5])\n",
    "print(sorted(os.listdir('taco/val/images'))[:5])\n",
    "print(sorted(os.listdir('taco/test/images'))[:5])"
   ]
  },
  {
   "cell_type": "markdown",
   "metadata": {},
   "source": [
    "Remove tmp fodler"
   ]
  },
  {
   "cell_type": "code",
   "execution_count": 9,
   "metadata": {
    "execution": {
     "iopub.execute_input": "2022-03-17T20:23:34.372524Z",
     "iopub.status.busy": "2022-03-17T20:23:34.371791Z",
     "iopub.status.idle": "2022-03-17T20:23:35.387914Z",
     "shell.execute_reply": "2022-03-17T20:23:35.387041Z",
     "shell.execute_reply.started": "2022-03-17T20:23:34.372481Z"
    }
   },
   "outputs": [],
   "source": [
    "!rm -r tmp"
   ]
  },
  {
   "cell_type": "markdown",
   "metadata": {},
   "source": [
    "### Training"
   ]
  },
  {
   "cell_type": "markdown",
   "metadata": {},
   "source": [
    "Run this if the error \"a view of a leaf Variable that requires grad is being used in an in-place operation\", then train again"
   ]
  },
  {
   "cell_type": "code",
   "execution_count": null,
   "metadata": {
    "execution": {
     "iopub.execute_input": "2022-03-17T20:23:45.326673Z",
     "iopub.status.busy": "2022-03-17T20:23:45.326399Z"
    }
   },
   "outputs": [],
   "source": [
    "# Be forewanred, this takes ~6 hours on 16 i9 cores\n",
    "import time\n",
    "start = time.time()\n",
    "!wandb disabled\n",
    "!python train.py --img 640 --batch 64 --epochs 50 --data ../yolov5-taco/taco.yaml --weights ../yolov5-taco/50_epochs_trained_last.pt\n",
    "end = time.time()"
   ]
  },
  {
   "cell_type": "code",
   "execution_count": null,
   "metadata": {},
   "outputs": [],
   "source": [
    "print('Training time:', end - start, 'seconds')"
   ]
  },
  {
   "cell_type": "markdown",
   "metadata": {},
   "source": [
    "### Show the training result"
   ]
  },
  {
   "cell_type": "code",
   "execution_count": null,
   "metadata": {},
   "outputs": [],
   "source": [
    "%cd 'runs/train/exp4'\n",
    "%ls"
   ]
  },
  {
   "cell_type": "code",
   "execution_count": null,
   "metadata": {},
   "outputs": [],
   "source": [
    "res_path = 'results.png'\n",
    "img = plt.imread(res_path)\n",
    "plt.figure(figsize=(20, 20))\n",
    "plt.imshow(img)\n",
    "plt.xticks([])\n",
    "plt.yticks([])\n",
    "plt.show()"
   ]
  },
  {
   "cell_type": "markdown",
   "metadata": {},
   "source": [
    "### Detect"
   ]
  },
  {
   "cell_type": "code",
   "execution_count": null,
   "metadata": {},
   "outputs": [],
   "source": [
    "%cd /home/jovyan/work/yolov5\n",
    "!ls"
   ]
  },
  {
   "cell_type": "code",
   "execution_count": null,
   "metadata": {},
   "outputs": [],
   "source": [
    "!wandb disabled\n",
    "!python detect.py --weights runs/train/exp4/weights/best.pt --img 640 --conf 0.25 --source taco/test/images "
   ]
  },
  {
   "cell_type": "code",
   "execution_count": null,
   "metadata": {},
   "outputs": [],
   "source": [
    "OUT_PATH = 'runs/detect/exp2'\n",
    "cnt = 0\n",
    "for file in os.listdir(OUT_PATH):\n",
    "    img = plt.imread(os.path.join(OUT_PATH, file))\n",
    "    plt.figure(figsize=(15, 15))\n",
    "    plt.imshow(img)\n",
    "    if cnt == 15:\n",
    "        break\n",
    "    plt.xticks([])\n",
    "    plt.yticks([])\n",
    "    plt.show()\n",
    "    cnt += 1"
   ]
  },
  {
   "cell_type": "code",
   "execution_count": null,
   "metadata": {},
   "outputs": [],
   "source": [
    "!python export.py --weights runs/train/exp4/weights/best.pt --include tfjs "
   ]
  }
 ],
 "metadata": {
  "kernelspec": {
   "display_name": "Python 3 (ipykernel)",
   "language": "python",
   "name": "python3"
  },
  "language_info": {
   "codemirror_mode": {
    "name": "ipython",
    "version": 3
   },
   "file_extension": ".py",
   "mimetype": "text/x-python",
   "name": "python",
   "nbconvert_exporter": "python",
   "pygments_lexer": "ipython3",
   "version": "3.9.7"
  }
 },
 "nbformat": 4,
 "nbformat_minor": 4
}
