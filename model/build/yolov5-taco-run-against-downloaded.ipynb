{
 "cells": [
  {
   "cell_type": "markdown",
   "metadata": {},
   "source": [
    "# Prep"
   ]
  },
  {
   "cell_type": "code",
   "execution_count": null,
   "metadata": {
    "execution": {
     "iopub.execute_input": "2022-03-17T20:21:36.531170Z",
     "iopub.status.busy": "2022-03-17T20:21:36.530842Z",
     "iopub.status.idle": "2022-03-17T20:21:48.412132Z",
     "shell.execute_reply": "2022-03-17T20:21:48.411402Z",
     "shell.execute_reply.started": "2022-03-17T20:21:36.531091Z"
    },
    "scrolled": true
   },
   "outputs": [],
   "source": [
    "!test -d yolov5 || git clone https://github.com/ultralytics/yolov5\n",
    "!test -f tacotrashdataset.zip  && test -d tacotrashdataset || unzip tacotrashdataset.zip  -d tacotrashdataset\n",
    "!test -f yolov5-taco.zip && test -d yolov5-taco || unzip yolov5-taco.zip -d yolov5-taco\n",
    "%cd yolov5\n",
    "!pip install --upgrade pip\n",
    "!pip install requirements.txt\n",
    "!pip install pycocotools split-folders wandb torch==1.7.1 tensorboard opencv-python torchvision"
   ]
  },
  {
   "cell_type": "markdown",
   "metadata": {},
   "source": [
    "# Run against already Trained"
   ]
  },
  {
   "cell_type": "code",
   "execution_count": null,
   "metadata": {
    "scrolled": false
   },
   "outputs": [],
   "source": [
    "%cd /home/jovyan/work/yolov5\n",
    "\n",
    "!python detect.py \\\n",
    "   --weights  ../yolov5-taco/50_epochs_trained_last.pt \\\n",
    "   --img 640 --conf 0.25 --source taco/test/images "
   ]
  },
  {
   "cell_type": "code",
   "execution_count": null,
   "metadata": {},
   "outputs": [],
   "source": [
    "# train direcly from already trained epochs\n",
    "!python export.py \\\n",
    "   --weights  ../yolov5-taco/50_epochs_trained_last.pt \\\n",
    "   --include tfjs "
   ]
  }
 ],
 "metadata": {
  "kernelspec": {
   "display_name": "Python 3 (ipykernel)",
   "language": "python",
   "name": "python3"
  },
  "language_info": {
   "codemirror_mode": {
    "name": "ipython",
    "version": 3
   },
   "file_extension": ".py",
   "mimetype": "text/x-python",
   "name": "python",
   "nbconvert_exporter": "python",
   "pygments_lexer": "ipython3",
   "version": "3.9.7"
  }
 },
 "nbformat": 4,
 "nbformat_minor": 4
}
